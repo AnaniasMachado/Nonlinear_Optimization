{
 "cells": [
  {
   "cell_type": "markdown",
   "metadata": {},
   "source": [
    "# Exercise 01"
   ]
  },
  {
   "cell_type": "markdown",
   "metadata": {},
   "source": [
    "**Objetivo:** Resolver o seguinte subproblema de região de confiança.\n",
    "\n",
    "$$\n",
    "\\max x^TCx\n",
    "$$\n",
    "\n",
    "Sujeito a:\n",
    "\n",
    "$$\n",
    "x^Tx \\leq 1\n",
    "$$"
   ]
  },
  {
   "cell_type": "markdown",
   "metadata": {},
   "source": [
    "## Imports"
   ]
  },
  {
   "cell_type": "code",
   "execution_count": 1,
   "metadata": {},
   "outputs": [],
   "source": [
    "import numpy as np\n",
    "from scipy.io import savemat\n",
    "import gurobipy as gp\n",
    "from gurobipy import GRB"
   ]
  },
  {
   "cell_type": "markdown",
   "metadata": {},
   "source": [
    "## Set Up"
   ]
  },
  {
   "cell_type": "markdown",
   "metadata": {},
   "source": [
    "### Creating symmetric matrix"
   ]
  },
  {
   "cell_type": "code",
   "execution_count": 2,
   "metadata": {},
   "outputs": [],
   "source": [
    "# Create a new symmetric positive semidefinite matrix\n",
    "n = 10\n",
    "C = np.random.rand(n, n)\n",
    "C = np.matmul(C, C.transpose())"
   ]
  },
  {
   "cell_type": "code",
   "execution_count": 3,
   "metadata": {},
   "outputs": [],
   "source": [
    "# Name of file .mat\n",
    "filename = 'matrixC.mat'\n",
    "\n",
    "# Save numpy array as a file .mat\n",
    "savemat(filename, {'matrixC': C})"
   ]
  },
  {
   "cell_type": "markdown",
   "metadata": {},
   "source": [
    "### Expected solution"
   ]
  },
  {
   "cell_type": "code",
   "execution_count": 4,
   "metadata": {},
   "outputs": [
    {
     "name": "stdout",
     "output_type": "stream",
     "text": [
      "Biggest eigenvalue:  20.105238123401083\n",
      "Corresponding eigenvector:  [ 0.25111285  0.05560033 -0.40878978  0.21027457 -0.50020946 -0.14398314\n",
      " -0.2445416   0.30696896 -0.4307971  -0.3346179 ]\n"
     ]
    }
   ],
   "source": [
    "# Calculates eigenvalues and eigenvectors\n",
    "eigenvalues, eigenvectors = np.linalg.eig(C)\n",
    "\n",
    "# The expected value of the objective function is the biggest eigenvalue\n",
    "phi = max(eigenvalues)\n",
    "\n",
    "# And the expected value of x is the corresponding eigenvector\n",
    "v = eigenvectors[np.where(eigenvalues == phi)][0]\n",
    "\n",
    "print(\"Biggest eigenvalue: \", phi)\n",
    "print(\"Corresponding eigenvector: \", v)"
   ]
  },
  {
   "cell_type": "markdown",
   "metadata": {},
   "source": [
    "### Setting Model"
   ]
  },
  {
   "cell_type": "code",
   "execution_count": 5,
   "metadata": {},
   "outputs": [
    {
     "name": "stdout",
     "output_type": "stream",
     "text": [
      "Restricted license - for non-production use only - expires 2025-11-24\n"
     ]
    },
    {
     "data": {
      "text/plain": [
       "<gurobi.QConstr Not Yet Added>"
      ]
     },
     "execution_count": 5,
     "metadata": {},
     "output_type": "execute_result"
    }
   ],
   "source": [
    "# Create a new model\n",
    "model = gp.Model(\"quadratic\")\n",
    "\n",
    "# Create variables\n",
    "x = model.addVars(n, lb=-GRB.INFINITY, ub=GRB.INFINITY, vtype=GRB.CONTINUOUS, name=\"x\")\n",
    "\n",
    "# Define objective function\n",
    "objective = gp.quicksum(C[i, j] * x[i] * x[j] for i in range(n) for j in range(n))\n",
    "\n",
    "# Set objective\n",
    "model.setObjective(objective, GRB.MAXIMIZE)\n",
    "\n",
    "# Add constraint: x^Tx <= 1\n",
    "model.addConstr(gp.quicksum(x[i] * x[i] for i in range(n)) <= 1, name=\"constraint\")"
   ]
  },
  {
   "cell_type": "markdown",
   "metadata": {},
   "source": [
    "### Optimizing model"
   ]
  },
  {
   "cell_type": "code",
   "execution_count": 6,
   "metadata": {},
   "outputs": [
    {
     "name": "stdout",
     "output_type": "stream",
     "text": [
      "Gurobi Optimizer version 11.0.3 build v11.0.3rc0 (linux64 - \"Freedesktop SDK 23.08 (Flatpak runtime)\")\n",
      "\n",
      "CPU model: Intel(R) Core(TM) i5-10400F CPU @ 2.90GHz, instruction set [SSE2|AVX|AVX2]\n",
      "Thread count: 6 physical cores, 12 logical processors, using up to 12 threads\n",
      "\n",
      "Optimize a model with 0 rows, 10 columns and 0 nonzeros\n",
      "Model fingerprint: 0xd07473ee\n",
      "Model has 55 quadratic objective terms\n",
      "Model has 1 quadratic constraint\n",
      "Coefficient statistics:\n",
      "  Matrix range     [0e+00, 0e+00]\n",
      "  QMatrix range    [1e+00, 1e+00]\n",
      "  Objective range  [0e+00, 0e+00]\n",
      "  QObjective range [3e+00, 1e+01]\n",
      "  Bounds range     [0e+00, 0e+00]\n",
      "  RHS range        [0e+00, 0e+00]\n",
      "  QRHS range       [1e+00, 1e+00]\n",
      "\n",
      "Continuous model is non-convex -- solving as a MIP\n",
      "\n",
      "Found heuristic solution: objective -0.0000000\n",
      "Presolve time: 0.00s\n",
      "Presolved: 122 rows, 66 columns, 386 nonzeros\n",
      "Presolved model has 55 bilinear constraint(s)\n",
      "Variable types: 66 continuous, 0 integer (0 binary)\n",
      "\n",
      "Root relaxation: objective 1.730605e+02, 39 iterations, 0.00 seconds (0.00 work units)\n",
      "\n",
      "    Nodes    |    Current Node    |     Objective Bounds      |     Work\n",
      " Expl Unexpl |  Obj  Depth IntInf | Incumbent    BestBd   Gap | It/Node Time\n",
      "\n",
      "     0     0  173.06054    0   55   -0.00000  173.06054      -     -    0s\n",
      "     0     0  160.32875    0   55   -0.00000  160.32875      -     -    0s\n",
      "     0     0  150.24238    0   55   -0.00000  150.24238      -     -    0s\n",
      "     0     0  141.83803    0   55   -0.00000  141.83803      -     -    0s\n",
      "     0     0  135.84272    0   55   -0.00000  135.84272      -     -    0s\n",
      "     0     0  131.38605    0   55   -0.00000  131.38605      -     -    0s\n",
      "     0     0  126.92377    0   55   -0.00000  126.92377      -     -    0s\n",
      "     0     0  124.48191    0   46   -0.00000  124.48191      -     -    0s\n",
      "     0     0  123.21651    0   46   -0.00000  123.21651      -     -    0s\n",
      "     0     0  121.74667    0   46   -0.00000  121.74667      -     -    0s\n",
      "     0     0  120.91535    0   55   -0.00000  120.91535      -     -    0s\n",
      "     0     0  120.74480    0   55   -0.00000  120.74480      -     -    0s\n",
      "H    0     0                      10.8069808  120.74480  1017%     -    0s\n",
      "     0     0  116.00947    0   55   10.80698  116.00947   973%     -    0s\n",
      "H    0     0                      14.0815369  116.00947   724%     -    0s\n",
      "     0     0  114.44108    0   51   14.08154  114.44108   713%     -    0s\n",
      "     0     0  113.42353    0   51   14.08154  113.42353   705%     -    0s\n",
      "H    0     0                      14.5719971  113.42353   678%     -    0s\n",
      "     0     0  110.09299    0   55   14.57200  110.09299   656%     -    0s\n",
      "     0     0  110.02858    0   55   14.57200  110.02858   655%     -    0s\n",
      "     0     0  108.29651    0   50   14.57200  108.29651   643%     -    0s\n",
      "     0     0  108.10263    0   49   14.57200  108.10263   642%     -    0s\n",
      "     0     0  107.65176    0   54   14.57200  107.65176   639%     -    0s\n",
      "     0     0  107.58590    0   55   14.57200  107.58590   638%     -    0s\n",
      "     0     0  106.79717    0   51   14.57200  106.79717   633%     -    0s\n",
      "     0     0  106.55226    0   51   14.57200  106.55226   631%     -    0s\n",
      "H    0     0                      16.0579637  105.58642   558%     -    0s\n",
      "     0     0  105.58642    0   55   16.05796  105.58642   558%     -    0s\n",
      "     0     0  105.27006    0   55   16.05796  105.27006   556%     -    0s\n",
      "     0     0  104.36288    0   53   16.05796  104.36288   550%     -    0s\n",
      "     0     0  104.29818    0   54   16.05796  104.29818   550%     -    0s\n",
      "     0     0  104.28486    0   55   16.05796  104.28486   549%     -    0s\n",
      "     0     0  104.28486    0   55   16.05796  104.28486   549%     -    0s\n",
      "H    0     0                      19.7267159  104.28486   429%     -    0s\n",
      "H    0     0                      19.8634561  104.28486   425%     -    0s\n",
      "     0     2  104.28486    0   55   19.86346  104.28486   425%     -    0s\n",
      "*  615   576              60      19.9470779   72.83564   265%  18.2    0s\n",
      "*  621   576              63      19.9470825   72.83564   265%  18.0    0s\n",
      "H 1558  1093                      20.1052381   64.50409   221%  16.5    0s\n",
      "H58369  9071                      20.1052381   23.20450  15.4%  14.6    4s\n",
      " 78582 10728 infeasible   34        20.10524   22.08098  9.83%  13.6    5s\n",
      " 187762 15781   20.14885   57   45   20.10524   20.48144  1.87%  11.0   10s\n",
      " 292953 21349 infeasible   63        20.10524   20.22624  0.60%   9.9   15s\n",
      " 393371 24414   20.12350   56   45   20.10524   20.15981  0.27%   9.3   20s\n",
      " 493959 27675     cutoff   65        20.10524   20.13137  0.13%   8.9   25s\n",
      " 593981 30044 infeasible   28        20.10524   20.11925  0.07%   8.6   30s\n",
      " 696095 32096   20.10603   88   36   20.10524   20.11255  0.04%   8.4   35s\n",
      " 792295 35356   20.10634   87   45   20.10524   20.10973  0.02%   8.2   40s\n",
      " 890416 38146 infeasible   78        20.10524   20.10819  0.01%   8.0   45s\n",
      "\n",
      "Cutting planes:\n",
      "  RLT: 141\n",
      "\n",
      "Explored 968170 nodes (7658662 simplex iterations) in 49.04 seconds (24.68 work units)\n",
      "Thread count was 12 (of 12 available processors)\n",
      "\n",
      "Solution count 10: 20.1052 19.9471 19.9471 ... -0\n",
      "\n",
      "Optimal solution found (tolerance 1.00e-04)\n",
      "Best objective 2.010523812340e+01, best bound 2.010723873236e+01, gap 0.0100%\n"
     ]
    }
   ],
   "source": [
    "# Optimize model\n",
    "model.optimize()"
   ]
  },
  {
   "cell_type": "markdown",
   "metadata": {},
   "source": [
    "### Checking optimizing results"
   ]
  },
  {
   "cell_type": "code",
   "execution_count": 7,
   "metadata": {},
   "outputs": [
    {
     "name": "stdout",
     "output_type": "stream",
     "text": [
      "x[0] 0.251113\n",
      "x[1] 0.269954\n",
      "x[2] 0.370593\n",
      "x[3] 0.322599\n",
      "x[4] 0.354135\n",
      "x[5] 0.209199\n",
      "x[6] 0.369303\n",
      "x[7] 0.304569\n",
      "x[8] 0.318475\n",
      "x[9] 0.350584\n",
      "Obj: 20.1052\n"
     ]
    }
   ],
   "source": [
    "# Printing solution\n",
    "for var in model.getVars():\n",
    "    print(f\"{var.VarName} {var.X:g}\")\n",
    "\n",
    "# Printing objective function value\n",
    "print(f\"Obj: {model.ObjVal:g}\")"
   ]
  },
  {
   "cell_type": "markdown",
   "metadata": {},
   "source": [
    "### Comparing results found with expected results"
   ]
  },
  {
   "cell_type": "code",
   "execution_count": 8,
   "metadata": {},
   "outputs": [
    {
     "name": "stdout",
     "output_type": "stream",
     "text": [
      "Objetive function value is the expected value.\n",
      "Error: 2.9283644144345793\n",
      "Solution vector is not the expected value.\n"
     ]
    }
   ],
   "source": [
    "epsilon = 10 ** -2\n",
    "\n",
    "def is_multiple(x, y):\n",
    "    c = 0\n",
    "    if y[0] != 0:\n",
    "        c = x[0] / y[0]\n",
    "        y = c * y\n",
    "    else:\n",
    "        c = y[0] / x[0]\n",
    "        x = c * x\n",
    "    error = 0\n",
    "    for i in range(len(x)):\n",
    "        error += np.square(x[i]-y[i])\n",
    "    print(\"Error:\", error)\n",
    "    if error < epsilon:\n",
    "        return True\n",
    "    return False\n",
    "\n",
    "if (model.ObjVal - phi)**2 < epsilon:\n",
    "    print(\"Objetive function value is the expected value.\")\n",
    "else:\n",
    "    print(\"Objective function value is not the expected value.\")\n",
    "\n",
    "x = np.array([x.x for x in model.getVars()])\n",
    "\n",
    "if is_multiple(x, v):\n",
    "    print(\"Solution vector is the expected value.\")\n",
    "else:\n",
    "    print(\"Solution vector is not the expected value.\")"
   ]
  }
 ],
 "metadata": {
  "kernelspec": {
   "display_name": "Nonlinear_Programming_Work_Kernel",
   "language": "python",
   "name": "nonlinear_programming_work_kernel"
  },
  "language_info": {
   "codemirror_mode": {
    "name": "ipython",
    "version": 3
   },
   "file_extension": ".py",
   "mimetype": "text/x-python",
   "name": "python",
   "nbconvert_exporter": "python",
   "pygments_lexer": "ipython3",
   "version": "3.12.5"
  }
 },
 "nbformat": 4,
 "nbformat_minor": 2
}
