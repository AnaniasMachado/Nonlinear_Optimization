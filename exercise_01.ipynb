{
 "cells": [
  {
   "cell_type": "markdown",
   "metadata": {},
   "source": [
    "# Exercise 01"
   ]
  },
  {
   "cell_type": "markdown",
   "metadata": {},
   "source": [
    "**Objetivo:** Resolver o seguinte subproblema de região de confiança.\n",
    "\n",
    "$$\n",
    "\\max x^TCx\n",
    "$$\n",
    "\n",
    "Sujeito a:\n",
    "\n",
    "$$\n",
    "x^Tx \\leq 1\n",
    "$$"
   ]
  },
  {
   "cell_type": "markdown",
   "metadata": {},
   "source": [
    "## Imports"
   ]
  },
  {
   "cell_type": "code",
   "execution_count": 8,
   "metadata": {},
   "outputs": [],
   "source": [
    "import numpy as np\n",
    "from scipy.io import savemat\n",
    "import gurobipy as gp\n",
    "from gurobipy import GRB"
   ]
  },
  {
   "cell_type": "markdown",
   "metadata": {},
   "source": [
    "## Set Up"
   ]
  },
  {
   "cell_type": "markdown",
   "metadata": {},
   "source": [
    "### Creating symmetric matrix"
   ]
  },
  {
   "cell_type": "code",
   "execution_count": 2,
   "metadata": {},
   "outputs": [],
   "source": [
    "# Create a new symmetric matrix\n",
    "n = 10\n",
    "C = np.random.rand(n, n)\n",
    "C = C + C.transpose()"
   ]
  },
  {
   "cell_type": "code",
   "execution_count": 9,
   "metadata": {},
   "outputs": [],
   "source": [
    "# Name of file .mat\n",
    "filename = 'matrixC.mat'\n",
    "\n",
    "# Save numpy array as a file .mat\n",
    "savemat(filename, {'matrixC': C})"
   ]
  },
  {
   "cell_type": "markdown",
   "metadata": {},
   "source": [
    "### Expected solution"
   ]
  },
  {
   "cell_type": "code",
   "execution_count": 3,
   "metadata": {},
   "outputs": [
    {
     "name": "stdout",
     "output_type": "stream",
     "text": [
      "Biggest eigenvalue:  10.950824427182773\n",
      "Corresponding eigenvector:  [ 0.32735014  0.09220725 -0.09241771 -0.14150591  0.146674    0.46953522\n",
      " -0.37866146 -0.64322243 -0.23216426 -0.05270992]\n"
     ]
    }
   ],
   "source": [
    "# Calculates eigenvalues and eigenvectors\n",
    "eigenvalues, eigenvectors = np.linalg.eig(C)\n",
    "\n",
    "# The expected value of the objective function is the biggest eigenvalue\n",
    "phi = max(eigenvalues)\n",
    "\n",
    "# And the expected value of x is the corresponding eigenvector\n",
    "v = eigenvectors[np.where(eigenvalues == phi)][0]\n",
    "\n",
    "print(\"Biggest eigenvalue: \", phi)\n",
    "print(\"Corresponding eigenvector: \", v)"
   ]
  },
  {
   "cell_type": "markdown",
   "metadata": {},
   "source": [
    "### Setting Model"
   ]
  },
  {
   "cell_type": "code",
   "execution_count": 4,
   "metadata": {},
   "outputs": [
    {
     "name": "stdout",
     "output_type": "stream",
     "text": [
      "Restricted license - for non-production use only - expires 2025-11-24\n"
     ]
    },
    {
     "data": {
      "text/plain": [
       "<gurobi.QConstr Not Yet Added>"
      ]
     },
     "execution_count": 4,
     "metadata": {},
     "output_type": "execute_result"
    }
   ],
   "source": [
    "# Create a new model\n",
    "model = gp.Model(\"quadratic\")\n",
    "\n",
    "# Create variables\n",
    "x = model.addVars(n, lb=-GRB.INFINITY, ub=GRB.INFINITY, vtype=GRB.CONTINUOUS, name=\"x\")\n",
    "\n",
    "# Define objective function\n",
    "objective = gp.quicksum(C[i, j] * x[i] * x[j] for i in range(n) for j in range(n))\n",
    "\n",
    "# Set objective\n",
    "model.setObjective(objective, GRB.MAXIMIZE)\n",
    "\n",
    "# Add constraint: x^Tx <= 1\n",
    "model.addConstr(gp.quicksum(x[i] * x[i] for i in range(n)) <= 1, name=\"constraint\")"
   ]
  },
  {
   "cell_type": "markdown",
   "metadata": {},
   "source": [
    "### Optimizing model"
   ]
  },
  {
   "cell_type": "code",
   "execution_count": 5,
   "metadata": {},
   "outputs": [
    {
     "name": "stdout",
     "output_type": "stream",
     "text": [
      "Gurobi Optimizer version 11.0.3 build v11.0.3rc0 (linux64 - \"Freedesktop SDK 23.08 (Flatpak runtime)\")\n",
      "\n",
      "CPU model: Intel(R) Core(TM) i5-10400F CPU @ 2.90GHz, instruction set [SSE2|AVX|AVX2]\n",
      "Thread count: 6 physical cores, 12 logical processors, using up to 12 threads\n",
      "\n",
      "Optimize a model with 0 rows, 10 columns and 0 nonzeros\n",
      "Model fingerprint: 0x8ccb8f3e\n",
      "Model has 55 quadratic objective terms\n",
      "Model has 1 quadratic constraint\n",
      "Coefficient statistics:\n",
      "  Matrix range     [0e+00, 0e+00]\n",
      "  QMatrix range    [1e+00, 1e+00]\n",
      "  Objective range  [0e+00, 0e+00]\n",
      "  QObjective range [3e-01, 8e+00]\n",
      "  Bounds range     [0e+00, 0e+00]\n",
      "  RHS range        [0e+00, 0e+00]\n",
      "  QRHS range       [1e+00, 1e+00]\n",
      "\n",
      "Continuous model is non-convex -- solving as a MIP\n",
      "\n",
      "Found heuristic solution: objective -0.0000000\n",
      "Presolve time: 0.03s\n",
      "Presolved: 122 rows, 66 columns, 386 nonzeros\n",
      "Presolved model has 55 bilinear constraint(s)\n",
      "Variable types: 66 continuous, 0 integer (0 binary)\n",
      "\n",
      "Root relaxation: objective 9.976606e+01, 12 iterations, 0.00 seconds (0.00 work units)\n",
      "\n",
      "    Nodes    |    Current Node    |     Objective Bounds      |     Work\n",
      " Expl Unexpl |  Obj  Depth IntInf | Incumbent    BestBd   Gap | It/Node Time\n",
      "\n",
      "     0     0   99.76606    0   55   -0.00000   99.76606      -     -    0s\n",
      "     0     0   90.19342    0   55   -0.00000   90.19342      -     -    0s\n",
      "     0     0   83.45408    0   55   -0.00000   83.45408      -     -    0s\n",
      "     0     0   76.74400    0   55   -0.00000   76.74400      -     -    0s\n",
      "     0     0   71.93498    0   55   -0.00000   71.93498      -     -    0s\n",
      "     0     0   69.24314    0   55   -0.00000   69.24314      -     -    0s\n",
      "     0     0   69.15241    0   55   -0.00000   69.15241      -     -    0s\n",
      "     0     0   68.68362    0   55   -0.00000   68.68362      -     -    0s\n",
      "     0     0   68.09780    0   55   -0.00000   68.09780      -     -    0s\n",
      "     0     0   65.44254    0   55   -0.00000   65.44254      -     -    0s\n",
      "     0     0   64.71739    0   55   -0.00000   64.71739      -     -    0s\n",
      "     0     0   63.20271    0   55   -0.00000   63.20271      -     -    0s\n",
      "     0     0   62.84735    0   55   -0.00000   62.84735      -     -    0s\n",
      "H    0     0                       6.0976234   62.84735   931%     -    0s\n",
      "     0     0   60.89993    0   51    6.09762   60.89993   899%     -    0s\n",
      "     0     0   60.65357    0   55    6.09762   60.65357   895%     -    0s\n",
      "     0     0   60.30386    0   53    6.09762   60.30386   889%     -    0s\n",
      "     0     0   60.08695    0   54    6.09762   60.08695   885%     -    0s\n",
      "H    0     0                       7.7139456   60.08695   679%     -    0s\n",
      "     0     0   59.73261    0   53    7.71395   59.73261   674%     -    0s\n",
      "     0     0   59.72434    0   55    7.71395   59.72434   674%     -    0s\n",
      "     0     0   59.72434    0   55    7.71395   59.72434   674%     -    0s\n",
      "H    0     0                      10.7688344   59.72434   455%     -    0s\n",
      "     0     2   59.72434    0   55   10.76883   59.72434   455%     -    0s\n",
      "H  643   602                      10.9226873   39.95663   266%  19.2    0s\n",
      "*  785   740              67      10.9294236   39.95663   266%  18.7    0s\n",
      "H 1556  1159                      10.9508244   36.16292   230%  18.0    0s\n",
      "H 2280  1581                      10.9508244   33.40880   205%  18.9    0s\n",
      " 79166 11292   11.25577   38   45   10.95082   12.34734  12.8%  12.8    5s\n",
      " 184561 16782   10.98636   47   45   10.95082   11.30063  3.19%  10.7   10s\n",
      " 294846 21201   10.96972   53   36   10.95082   11.05393  0.94%   9.6   15s\n",
      " 404543 25130 infeasible   65        10.95082   10.98996  0.36%   9.0   20s\n",
      " 512692 27474   10.95544   68   36   10.95082   10.96832  0.16%   8.6   25s\n",
      "H514058 27474                      10.9508244   10.96823  0.16%   8.6   25s\n",
      " 620188 29104 infeasible   68        10.95082   10.95885  0.07%   8.4   30s\n",
      " 727337 31132   10.95297   66   44   10.95082   10.95501  0.04%   8.2   35s\n",
      " 830855 33164   10.95153   73   45   10.95082   10.95298  0.02%   8.0   40s\n",
      " 930588 35743 infeasible   78        10.95082   10.95211  0.01%   7.9   45s\n",
      "\n",
      "Cutting planes:\n",
      "  RLT: 136\n",
      "\n",
      "Explored 965624 nodes (7557630 simplex iterations) in 46.55 seconds (25.89 work units)\n",
      "Thread count was 12 (of 12 available processors)\n",
      "\n",
      "Solution count 7: 10.9508 10.9294 10.9227 ... -0\n",
      "\n",
      "Optimal solution found (tolerance 1.00e-04)\n",
      "Best objective 1.095082443058e+01, best bound 1.095191190784e+01, gap 0.0099%\n"
     ]
    }
   ],
   "source": [
    "# Optimize model\n",
    "model.optimize()"
   ]
  },
  {
   "cell_type": "markdown",
   "metadata": {},
   "source": [
    "### Checking optimizing results"
   ]
  },
  {
   "cell_type": "code",
   "execution_count": 6,
   "metadata": {},
   "outputs": [
    {
     "name": "stdout",
     "output_type": "stream",
     "text": [
      "x[0] 0.32735\n",
      "x[1] 0.325547\n",
      "x[2] 0.234754\n",
      "x[3] 0.336994\n",
      "x[4] 0.28993\n",
      "x[5] 0.262576\n",
      "x[6] 0.361605\n",
      "x[7] 0.334545\n",
      "x[8] 0.327738\n",
      "x[9] 0.339249\n",
      "Obj: 10.9508\n"
     ]
    }
   ],
   "source": [
    "# Printing solution\n",
    "for var in model.getVars():\n",
    "    print(f\"{var.VarName} {var.X:g}\")\n",
    "\n",
    "# Printing objective function value\n",
    "print(f\"Obj: {model.ObjVal:g}\")"
   ]
  },
  {
   "cell_type": "markdown",
   "metadata": {},
   "source": [
    "### Comparing results found with expected results"
   ]
  },
  {
   "cell_type": "code",
   "execution_count": 7,
   "metadata": {},
   "outputs": [
    {
     "name": "stdout",
     "output_type": "stream",
     "text": [
      "Objetive function value is the expected value.\n",
      "Error: 2.4249526719959853\n",
      "Solution vector is not the expected value.\n"
     ]
    }
   ],
   "source": [
    "epsilon = 10 ** -2\n",
    "\n",
    "def is_multiple(x, y):\n",
    "    c = 0\n",
    "    if y[0] != 0:\n",
    "        c = x[0] / y[0]\n",
    "        y = c * y\n",
    "    else:\n",
    "        c = y[0] / x[0]\n",
    "        x = c * x\n",
    "    error = 0\n",
    "    for i in range(len(x)):\n",
    "        error += np.square(x[i]-y[i])\n",
    "    print(\"Error:\", error)\n",
    "    if error < epsilon:\n",
    "        return True\n",
    "    return False\n",
    "\n",
    "if (model.ObjVal - phi)**2 < epsilon:\n",
    "    print(\"Objetive function value is the expected value.\")\n",
    "else:\n",
    "    print(\"Objective function value is not the expected value.\")\n",
    "\n",
    "x = np.array([x.x for x in model.getVars()])\n",
    "\n",
    "if is_multiple(x, v):\n",
    "    print(\"Solution vector is the expected value.\")\n",
    "else:\n",
    "    print(\"Solution vector is not the expected value.\")"
   ]
  }
 ],
 "metadata": {
  "kernelspec": {
   "display_name": "Nonlinear_Programming_Work_Kernel",
   "language": "python",
   "name": "nonlinear_programming_work_kernel"
  },
  "language_info": {
   "codemirror_mode": {
    "name": "ipython",
    "version": 3
   },
   "file_extension": ".py",
   "mimetype": "text/x-python",
   "name": "python",
   "nbconvert_exporter": "python",
   "pygments_lexer": "ipython3",
   "version": "3.12.5"
  }
 },
 "nbformat": 4,
 "nbformat_minor": 2
}
